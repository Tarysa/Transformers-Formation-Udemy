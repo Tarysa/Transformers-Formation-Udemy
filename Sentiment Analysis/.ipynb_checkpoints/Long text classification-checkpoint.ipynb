{
 "cells": [
  {
   "cell_type": "code",
   "execution_count": null,
   "id": "880373e3",
   "metadata": {},
   "outputs": [],
   "source": [
    "from transformers import BertForSequenceClassification, BertTokenizer\n",
    "import torch\n",
    "\n",
    "#initialize our model and tokenizer\n",
    "tokenizer = BertTokenizer . from_pretrained ( \"ProsusAI/finbert\")\n",
    "model BertForSequenceclassification . from_pretrained ( \"ProsusAI/finbert\")\n",
    "def sentiment (tokens):\n",
    "    #get output Logits from the model\n",
    "    output model (**tokens)\n",
    "    #convert to probabil ities\n",
    "    probs torch. nn. functional . softmax (output[®], dim=-1)\n",
    "    #we will return the probability tensor (we wilL not need argmax until Later)\n",
    "    return probs"
   ]
  }
 ],
 "metadata": {
  "kernelspec": {
   "display_name": "Python 3 (ipykernel)",
   "language": "python",
   "name": "python3"
  },
  "language_info": {
   "codemirror_mode": {
    "name": "ipython",
    "version": 3
   },
   "file_extension": ".py",
   "mimetype": "text/x-python",
   "name": "python",
   "nbconvert_exporter": "python",
   "pygments_lexer": "ipython3",
   "version": "3.8.12"
  }
 },
 "nbformat": 4,
 "nbformat_minor": 5
}
